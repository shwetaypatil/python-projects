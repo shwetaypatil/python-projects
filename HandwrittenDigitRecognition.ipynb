{
  "nbformat": 4,
  "nbformat_minor": 0,
  "metadata": {
    "colab": {
      "provenance": [],
      "authorship_tag": "ABX9TyORA+yadGOANXzZdXbYX7JI",
      "include_colab_link": true
    },
    "kernelspec": {
      "name": "python3",
      "display_name": "Python 3"
    },
    "language_info": {
      "name": "python"
    }
  },
  "cells": [
    {
      "cell_type": "markdown",
      "metadata": {
        "id": "view-in-github",
        "colab_type": "text"
      },
      "source": [
        "<a href=\"https://colab.research.google.com/github/shwetaypatil/python-projects/blob/main/HandwrittenDigitRecognition.ipynb\" target=\"_parent\"><img src=\"https://colab.research.google.com/assets/colab-badge.svg\" alt=\"Open In Colab\"/></a>"
      ]
    },
    {
      "cell_type": "code",
      "execution_count": 4,
      "metadata": {
        "id": "2DcxufbTgMQD"
      },
      "outputs": [],
      "source": [
        "import numpy as np\n",
        "import matplotlib.pyplot as plt\n",
        "import random"
      ]
    },
    {
      "cell_type": "code",
      "source": [
        "x_train = np.loadtxt('train_x.csv', delimiter = \",\").T\n",
        "y_train = np.loadtxt('train_label.csv', delimiter = \",\").T\n",
        "\n",
        "x_test = np.loadtxt('test_x.csv', delimiter = \",\").T\n",
        "y_test = np.loadtxt('test_label.csv', delimiter = \",\").T"
      ],
      "metadata": {
        "id": "f5RhdQhggxDH"
      },
      "execution_count": 5,
      "outputs": []
    },
    {
      "cell_type": "code",
      "source": [
        "np.savetxt(\"train_x.csv\", x_train, delimiter=\",\")\n",
        "np.savetxt(\"train_label.csv\", y_train, delimiter=\",\")\n",
        "np.savetxt(\"test_x.csv\", x_test, delimiter=\",\")\n",
        "np.savetxt(\"test_label.csv\", y_test, delimiter=\",\")"
      ],
      "metadata": {
        "id": "lqCLJ5VzmfEq"
      },
      "execution_count": 21,
      "outputs": []
    },
    {
      "cell_type": "code",
      "source": [
        "print(\"Shape of x_train: \", x_train.shape)\n",
        "print(\"Shape of y_train: \", y_train.shape)\n",
        "print(\"Shape of x_test: \", x_test.shape)\n",
        "print(\"Shape of y_test: \", y_test.shape)"
      ],
      "metadata": {
        "colab": {
          "base_uri": "https://localhost:8080/"
        },
        "id": "M0Gl_ABGiv_-",
        "outputId": "99dfc3d5-6db5-46a0-9f8a-d4fdbe9a10bf"
      },
      "execution_count": 6,
      "outputs": [
        {
          "output_type": "stream",
          "name": "stdout",
          "text": [
            "Shape of x_train:  (784, 1000)\n",
            "Shape of y_train:  (10, 1000)\n",
            "Shape of x_test:  (784, 350)\n",
            "Shape of y_test:  (10, 350)\n"
          ]
        }
      ]
    },
    {
      "cell_type": "code",
      "source": [
        "index = random.randrange(0, x_train.shape[1])\n",
        "plt.imshow(x_train[:, index].reshape(28, 28), cmap='gray')\n",
        "plt.show()"
      ],
      "metadata": {
        "colab": {
          "base_uri": "https://localhost:8080/",
          "height": 430
        },
        "id": "spiHpyZHrLVQ",
        "outputId": "f44bdf9e-4fba-4219-8de4-38fb962c0348"
      },
      "execution_count": 7,
      "outputs": [
        {
          "output_type": "display_data",
          "data": {
            "text/plain": [
              "<Figure size 640x480 with 1 Axes>"
            ],
            "image/png": "[encoded data removed]"
          },
          "metadata": {}
        }
      ]
    },
    {
      "cell_type": "code",
      "source": [
        "def tanh(x):\n",
        "  return np.tanh(x)\n",
        "\n",
        "def relu(x):\n",
        "  return np.maximum(x, 0)\n",
        "\n",
        "def softmax(x):\n",
        "  shift_x = x - np.max(x, axis=0, keepdims=True) #for numerical stability\n",
        "  expX = np.exp(shift_x)\n",
        "  return expX / np.sum(expX, axis=0, keepdims=True)"
      ],
      "metadata": {
        "id": "jg3RwCWCryid"
      },
      "execution_count": 8,
      "outputs": []
    },
    {
      "cell_type": "code",
      "source": [
        "def derivative_tanh(x):\n",
        "  return (1 - np.power(np.tanh(x), 2))\n",
        "\n",
        "def derivative_relu(x):\n",
        "  return np.array(x > 0, dtype=np.float32)\n"
      ],
      "metadata": {
        "id": "v2qJo0mVtf01"
      },
      "execution_count": 9,
      "outputs": []
    },
    {
      "cell_type": "code",
      "source": [
        "def initialize_parameters(n_x, n_h, n_y):\n",
        "  w1 = np.random.randn(n_h, n_x)*0.01\n",
        "  b1 = np.zeros((n_h, 1))\n",
        "\n",
        "  w2 = np.random.randn(n_y, n_h)*0.01\n",
        "  b2 = np.zeros((n_y, 1))\n",
        "\n",
        "  parameters = {\n",
        "      \"w1\": w1,\n",
        "      \"b1\": b1,\n",
        "      \"w2\": w2,\n",
        "      \"b2\": b2\n",
        "  }\n",
        "\n",
        "  return parameters"
      ],
      "metadata": {
        "id": "c2b-35CiuMhp"
      },
      "execution_count": 10,
      "outputs": []
    },
    {
      "cell_type": "code",
      "source": [
        "def forward_propagation(x, parameters):\n",
        "  w1 = parameters['w1']\n",
        "  b1 = parameters['b1']\n",
        "  w2 = parameters['w2']\n",
        "  b2 = parameters['b2']\n",
        "\n",
        "  z1 = np.dot(w1, x) + b1\n",
        "  a1 = tanh(z1)\n",
        "\n",
        "  z2 = np.dot(w2, a1) + b2\n",
        "  a2 = softmax(z2)\n",
        "\n",
        "  forward_cache = {\n",
        "      \"z1\": z1,\n",
        "      \"a1\": a1,\n",
        "      \"z2\": z2,\n",
        "      \"a2\": a2\n",
        "  }\n",
        "\n",
        "  return forward_cache"
      ],
      "metadata": {
        "id": "zni2uxb1vTK4"
      },
      "execution_count": 11,
      "outputs": []
    },
    {
      "cell_type": "code",
      "source": [
        "#cost function\n",
        "def cost_function(a2, y):\n",
        "  m = y.shape[1]\n",
        "\n",
        "  epsilon = 1e-8 #small value to avoid log(0)\n",
        "  cost  = -(1/m)*np.sum(y*np.log(a2))\n",
        "  # cost = -(1/m)*np.sum(np.sum(y*np.log(a2, 0), 1))\n",
        "\n",
        "  return cost"
      ],
      "metadata": {
        "id": "zmbxB6h-wWuG"
      },
      "execution_count": 12,
      "outputs": []
    },
    {
      "cell_type": "code",
      "source": [
        "def back_propagation(x, y, parameters, forward_cache):\n",
        "\n",
        "    w1 = parameters['w1']\n",
        "    b1 = parameters['b1']\n",
        "    w2 = parameters['w2']\n",
        "    b2 = parameters['b2']\n",
        "\n",
        "    a1 = forward_cache['a1']\n",
        "    a2 = forward_cache['a2']\n",
        "\n",
        "    m = x.shape[1]\n",
        "\n",
        "    dz2 = (a2 - y)\n",
        "    dw2 = (1/m)*np.dot(dz2, a1.T)\n",
        "    db2 = (1/m)*np.sum(dz2, axis = 1, keepdims = True)\n",
        "\n",
        "    dz1 = (1/m)*np.dot(w2.T, dz2)*derivative_tanh(a1)\n",
        "    dw1 = (1/m)*np.dot(dz1, x.T)\n",
        "    db1 = (1/m)*np.sum(dz1, axis = 1, keepdims = True)\n",
        "\n",
        "    gradients = {\n",
        "        \"dw1\" : dw1,\n",
        "        \"db1\" : db1,\n",
        "        \"dw2\" : dw2,\n",
        "        \"db2\" : db2\n",
        "    }\n",
        "\n",
        "    return gradients"
      ],
      "metadata": {
        "id": "Ite-GmIOxHna"
      },
      "execution_count": 13,
      "outputs": []
    },
    {
      "cell_type": "code",
      "source": [
        "def update_parameters(parameters, gradients, learning_rate):\n",
        "\n",
        "    w1 = parameters['w1']\n",
        "    b1 = parameters['b1']\n",
        "    w2 = parameters['w2']\n",
        "    b2 = parameters['b2']\n",
        "\n",
        "    dw1 = gradients['dw1']\n",
        "    db1 = gradients['db1']\n",
        "    dw2 = gradients['dw2']\n",
        "    db2 = gradients['db2']\n",
        "\n",
        "    w1 = w1 - learning_rate*dw1\n",
        "    b1 = b1 - learning_rate*db1\n",
        "    w2 = w2 - learning_rate*dw2\n",
        "    b2 = b2 - learning_rate*db2\n",
        "\n",
        "    parameters = {\n",
        "        \"w1\" : w1,\n",
        "        \"b1\" : b1,\n",
        "        \"w2\" : w2,\n",
        "        \"b2\" : b2\n",
        "    }\n",
        "\n",
        "    return parameters"
      ],
      "metadata": {
        "id": "PKQm0H002uvl"
      },
      "execution_count": 14,
      "outputs": []
    },
    {
      "cell_type": "code",
      "source": [
        "#complete model\n",
        "def model(x, y, n_h, learning_rate, iterations):\n",
        "  n_x = x.shape[0]\n",
        "  n_y = y.shape[0]\n",
        "\n",
        "  cost_list = []\n",
        "\n",
        "  parameters = initialize_parameters(n_x, n_h, n_y)\n",
        "\n",
        "  for i in range(iterations):\n",
        "    forward_cahe = forward_propagation(x, parameters)\n",
        "    cost = cost_function(forward_cahe['a2'], y)\n",
        "    gradients = back_propagation(x, y, parameters, forward_cahe)\n",
        "    parameters = update_parameters(parameters, gradients, learning_rate)\n",
        "\n",
        "    cost_list.append(cost)\n",
        "    if i%(iterations/10) == 0:\n",
        "      print(\"Cost after \", i, \"iterations is\", cost)\n",
        "\n",
        "\n",
        "  return parameters, cost_list"
      ],
      "metadata": {
        "id": "5akPxRzn0Oes"
      },
      "execution_count": 15,
      "outputs": []
    },
    {
      "cell_type": "code",
      "source": [
        "iterations = 100\n",
        "n_h = 1000\n",
        "learning_rate = 0.02\n",
        "Parameters, Cost_list = model(x_train, y_train, n_h=n_h, learning_rate=learning_rate, iterations=iterations)"
      ],
      "metadata": {
        "colab": {
          "base_uri": "https://localhost:8080/"
        },
        "id": "TCUrQm1q2AYZ",
        "outputId": "71eabbe8-4985-4c72-e17b-8d9912061753"
      },
      "execution_count": 16,
      "outputs": [
        {
          "output_type": "stream",
          "name": "stdout",
          "text": [
            "Cost after  0 iterations is 2.4244438324638855\n",
            "Cost after  10 iterations is 1.2051298971180406\n",
            "Cost after  20 iterations is 0.8362804805701857\n",
            "Cost after  30 iterations is 0.662142917114179\n",
            "Cost after  40 iterations is 0.5580657164351057\n",
            "Cost after  50 iterations is 0.4871899180510586\n",
            "Cost after  60 iterations is 0.43487150568421956\n",
            "Cost after  70 iterations is 0.3940984286817446\n",
            "Cost after  80 iterations is 0.36107024201126786\n",
            "Cost after  90 iterations is 0.33353723127076546\n"
          ]
        }
      ]
    },
    {
      "cell_type": "code",
      "source": [
        "t = np.arange(0, iterations)\n",
        "plt.plot(t, Cost_list)\n",
        "plt.show()"
      ],
      "metadata": {
        "id": "YckyE4z_3NpM",
        "colab": {
          "base_uri": "https://localhost:8080/",
          "height": 431
        },
        "outputId": "a12cd390-e8ec-4fed-cc1e-2a399681a2b4"
      },
      "execution_count": 17,
      "outputs": [
        {
          "output_type": "display_data",
          "data": {
            "text/plain": [
              "<Figure size 640x480 with 1 Axes>"
            ],
            "image/png": "[encoded data removed]"
          },
          "metadata": {}
        }
      ]
    },
    {
      "cell_type": "code",
      "source": [
        "def accuracy(inp, labels, parameters):\n",
        "  forward_cache = forward_propagation(inp, parameters)\n",
        "  a_out = forward_cache['a2'] #contains probabilities with shape(10, 1)\n",
        "\n",
        "  a_out = np.argmax(a_out, 0) #0 represents row wise\n",
        "\n",
        "  labels = np.argmax(labels, 0)\n",
        "  acc = np.mean(a_out == labels)*100\n",
        "  return acc"
      ],
      "metadata": {
        "id": "jTeOo8nzwnWU"
      },
      "execution_count": 18,
      "outputs": []
    },
    {
      "cell_type": "code",
      "source": [
        "print(\"Accuracy of Train dataset\", accuracy(x_train, y_train, Parameters), \"%\")\n",
        "print(\"Accuracy of Test Dataset\", round(accuracy(x_test, y_test, Parameters), 2), \"%\")"
      ],
      "metadata": {
        "colab": {
          "base_uri": "https://localhost:8080/"
        },
        "id": "jEM0wZikyPxf",
        "outputId": "a70ad07d-ded3-4778-9052-df09a8ec3989"
      },
      "execution_count": 19,
      "outputs": [
        {
          "output_type": "stream",
          "name": "stdout",
          "text": [
            "Accuracy of Train dataset 95.19999999999999 %\n",
            "Accuracy of Test Dataset 86.29 %\n"
          ]
        }
      ]
    },
    {
      "cell_type": "code",
      "source": [
        "index = random.randrange(0, x_test.shape[1])\n",
        "plt.imshow(x_test[:, index].reshape(28, 28), cmap='gray')\n",
        "plt.show()\n",
        "\n",
        "cache = forward_propagation(x_test[:, index].reshape(x_test[:, index].shape[0], 1), Parameters)\n",
        "a_pred = cache['a2']\n",
        "a_pred = np.argmax(a_pred, 0)\n",
        "\n",
        "print(\"Our model says it is: \", a_pred[0])"
      ],
      "metadata": {
        "colab": {
          "base_uri": "https://localhost:8080/",
          "height": 447
        },
        "id": "UqlpsxlEy1YD",
        "outputId": "d0bf1b98-5cb4-4db9-a10c-05e6c332b481"
      },
      "execution_count": 20,
      "outputs": [
        {
          "output_type": "display_data",
          "data": {
            "text/plain": [
              "<Figure size 640x480 with 1 Axes>"
            ],
            "image/png": "[encoded data removed]"
          },
          "metadata": {}
        },
        {
          "output_type": "stream",
          "name": "stdout",
          "text": [
            "Our model says it is:  1\n"
          ]
        }
      ]
    },
    {
      "cell_type": "code",
      "source": [],
      "metadata": {
        "id": "oAqbWffEqa2j"
      },
      "execution_count": null,
      "outputs": []
    }
  ]
}